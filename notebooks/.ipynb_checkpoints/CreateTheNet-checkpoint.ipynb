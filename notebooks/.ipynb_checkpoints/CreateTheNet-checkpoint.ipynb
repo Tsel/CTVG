{
 "metadata": {
  "name": "",
  "signature": "sha256:2b599e07729d58919d7e30e2f27ac0ed9795969ac6ea5e313dff0639e41809ef"
 },
 "nbformat": 3,
 "nbformat_minor": 0,
 "worksheets": [
  {
   "cells": [
    {
     "cell_type": "markdown",
     "metadata": {},
     "source": [
      "#How to create a network graph from edgelist with attributes\n",
      "Thomas Selhorst, January 2015\n",
      "\n",
      "---"
     ]
    },
    {
     "cell_type": "markdown",
     "metadata": {},
     "source": [
      ">In this example we use an edgelist with attributes and convert it to an netwrokx graph. We will use the pandas module because we want to do some data manipulation before network setup.\n",
      "\n",
      ">The following steps are described:\n",
      "1. read an edgelist with attributes into a pandas dataframe\n",
      "2. perform data manipulation\n",
      "3. set up the network\n",
      "\n",
      ">The following modules are used:\n",
      "1. pandas\n",
      "2. networkx"
     ]
    },
    {
     "cell_type": "code",
     "collapsed": false,
     "input": [
      "import pandas as pd\n",
      "import networkx as nx\n",
      "import numpy as np"
     ],
     "language": "python",
     "metadata": {},
     "outputs": [
      {
       "output_type": "stream",
       "stream": "stdout",
       "text": [
        "Couldn't import dot_parser, loading of dot files will not be possible.\n"
       ]
      }
     ],
     "prompt_number": 1
    },
    {
     "cell_type": "code",
     "collapsed": false,
     "input": [
      "pwd"
     ],
     "language": "python",
     "metadata": {},
     "outputs": [
      {
       "metadata": {},
       "output_type": "pyout",
       "prompt_number": 2,
       "text": [
        "u'/Users/TOSS/Documents/Projects/CattleTVG'"
       ]
      }
     ],
     "prompt_number": 2
    },
    {
     "cell_type": "code",
     "collapsed": false,
     "input": [
      "cd ./Edgelist/"
     ],
     "language": "python",
     "metadata": {},
     "outputs": [
      {
       "output_type": "stream",
       "stream": "stdout",
       "text": [
        "/Users/TOSS/Documents/Projects/CattleTVG/Edgelist\n"
       ]
      }
     ],
     "prompt_number": 3
    },
    {
     "cell_type": "code",
     "collapsed": false,
     "input": [
      "ls"
     ],
     "language": "python",
     "metadata": {},
     "outputs": [
      {
       "output_type": "stream",
       "stream": "stdout",
       "text": [
        "elri.csv      elri1000.csv  elri20.csv\r\n"
       ]
      }
     ],
     "prompt_number": 4
    },
    {
     "cell_type": "markdown",
     "metadata": {},
     "source": [
      "### 1. read edgelist into pandas dataframe"
     ]
    },
    {
     "cell_type": "code",
     "collapsed": false,
     "input": [
      "fname = \"elri20.csv\""
     ],
     "language": "python",
     "metadata": {},
     "outputs": [],
     "prompt_number": 5
    },
    {
     "cell_type": "code",
     "collapsed": false,
     "input": [
      "df = pd.read_csv(fname, sep=',', parse_dates=['Date'], index_col='Date')\n",
      "df"
     ],
     "language": "python",
     "metadata": {},
     "outputs": [
      {
       "html": [
        "<div style=\"max-height:1000px;max-width:1500px;overflow:auto;\">\n",
        "<table border=\"1\" class=\"dataframe\">\n",
        "  <thead>\n",
        "    <tr style=\"text-align: right;\">\n",
        "      <th></th>\n",
        "      <th>S</th>\n",
        "      <th>T</th>\n",
        "      <th>VOL</th>\n",
        "    </tr>\n",
        "    <tr>\n",
        "      <th>Date</th>\n",
        "      <th></th>\n",
        "      <th></th>\n",
        "      <th></th>\n",
        "    </tr>\n",
        "  </thead>\n",
        "  <tbody>\n",
        "    <tr>\n",
        "      <th>2001-07-24</th>\n",
        "      <td> 276010010000003</td>\n",
        "      <td> 276010010000001</td>\n",
        "      <td>  1</td>\n",
        "    </tr>\n",
        "    <tr>\n",
        "      <th>2003-12-11</th>\n",
        "      <td> 276010010000011</td>\n",
        "      <td> 276010010000001</td>\n",
        "      <td> 12</td>\n",
        "    </tr>\n",
        "    <tr>\n",
        "      <th>2003-12-12</th>\n",
        "      <td> 276010010000011</td>\n",
        "      <td> 276010010000001</td>\n",
        "      <td>  2</td>\n",
        "    </tr>\n",
        "    <tr>\n",
        "      <th>2003-12-30</th>\n",
        "      <td> 276010010000011</td>\n",
        "      <td> 276010010000001</td>\n",
        "      <td>  2</td>\n",
        "    </tr>\n",
        "    <tr>\n",
        "      <th>2004-01-05</th>\n",
        "      <td> 276010010000011</td>\n",
        "      <td> 276010010000001</td>\n",
        "      <td>  1</td>\n",
        "    </tr>\n",
        "    <tr>\n",
        "      <th>2004-01-14</th>\n",
        "      <td> 276010010000011</td>\n",
        "      <td> 276010010000001</td>\n",
        "      <td>  2</td>\n",
        "    </tr>\n",
        "    <tr>\n",
        "      <th>2004-02-06</th>\n",
        "      <td> 276010010000011</td>\n",
        "      <td> 276010010000001</td>\n",
        "      <td>  2</td>\n",
        "    </tr>\n",
        "    <tr>\n",
        "      <th>2004-02-26</th>\n",
        "      <td> 276010010000011</td>\n",
        "      <td> 276010010000001</td>\n",
        "      <td>  1</td>\n",
        "    </tr>\n",
        "    <tr>\n",
        "      <th>2004-03-02</th>\n",
        "      <td> 276010010000011</td>\n",
        "      <td> 276010010000001</td>\n",
        "      <td>  6</td>\n",
        "    </tr>\n",
        "    <tr>\n",
        "      <th>2004-03-15</th>\n",
        "      <td> 276010010000011</td>\n",
        "      <td> 276010010000001</td>\n",
        "      <td>  1</td>\n",
        "    </tr>\n",
        "    <tr>\n",
        "      <th>2004-03-23</th>\n",
        "      <td> 276010010000011</td>\n",
        "      <td> 276010010000001</td>\n",
        "      <td>  2</td>\n",
        "    </tr>\n",
        "    <tr>\n",
        "      <th>2004-04-08</th>\n",
        "      <td> 276010010000011</td>\n",
        "      <td> 276010010000001</td>\n",
        "      <td>  1</td>\n",
        "    </tr>\n",
        "    <tr>\n",
        "      <th>2004-12-09</th>\n",
        "      <td> 276010010000011</td>\n",
        "      <td> 276010010000001</td>\n",
        "      <td> 18</td>\n",
        "    </tr>\n",
        "    <tr>\n",
        "      <th>2005-01-21</th>\n",
        "      <td> 276010010000011</td>\n",
        "      <td> 276010010000001</td>\n",
        "      <td>  2</td>\n",
        "    </tr>\n",
        "    <tr>\n",
        "      <th>2005-02-25</th>\n",
        "      <td> 276010010000011</td>\n",
        "      <td> 276010010000001</td>\n",
        "      <td>  3</td>\n",
        "    </tr>\n",
        "    <tr>\n",
        "      <th>2005-03-17</th>\n",
        "      <td> 276010010000011</td>\n",
        "      <td> 276010010000001</td>\n",
        "      <td>  1</td>\n",
        "    </tr>\n",
        "    <tr>\n",
        "      <th>2005-03-25</th>\n",
        "      <td> 276010010000011</td>\n",
        "      <td> 276010010000001</td>\n",
        "      <td>  3</td>\n",
        "    </tr>\n",
        "    <tr>\n",
        "      <th>2005-11-28</th>\n",
        "      <td> 276010010000011</td>\n",
        "      <td> 276010010000001</td>\n",
        "      <td> 20</td>\n",
        "    </tr>\n",
        "    <tr>\n",
        "      <th>2006-05-26</th>\n",
        "      <td> 276010010000011</td>\n",
        "      <td> 276010010000001</td>\n",
        "      <td>  1</td>\n",
        "    </tr>\n",
        "    <tr>\n",
        "      <th>2006-11-27</th>\n",
        "      <td> 276010010000011</td>\n",
        "      <td> 276010010000001</td>\n",
        "      <td> 21</td>\n",
        "    </tr>\n",
        "  </tbody>\n",
        "</table>\n",
        "</div>"
       ],
       "metadata": {},
       "output_type": "pyout",
       "prompt_number": 6,
       "text": [
        "                          S                T  VOL\n",
        "Date                                             \n",
        "2001-07-24  276010010000003  276010010000001    1\n",
        "2003-12-11  276010010000011  276010010000001   12\n",
        "2003-12-12  276010010000011  276010010000001    2\n",
        "2003-12-30  276010010000011  276010010000001    2\n",
        "2004-01-05  276010010000011  276010010000001    1\n",
        "2004-01-14  276010010000011  276010010000001    2\n",
        "2004-02-06  276010010000011  276010010000001    2\n",
        "2004-02-26  276010010000011  276010010000001    1\n",
        "2004-03-02  276010010000011  276010010000001    6\n",
        "2004-03-15  276010010000011  276010010000001    1\n",
        "2004-03-23  276010010000011  276010010000001    2\n",
        "2004-04-08  276010010000011  276010010000001    1\n",
        "2004-12-09  276010010000011  276010010000001   18\n",
        "2005-01-21  276010010000011  276010010000001    2\n",
        "2005-02-25  276010010000011  276010010000001    3\n",
        "2005-03-17  276010010000011  276010010000001    1\n",
        "2005-03-25  276010010000011  276010010000001    3\n",
        "2005-11-28  276010010000011  276010010000001   20\n",
        "2006-05-26  276010010000011  276010010000001    1\n",
        "2006-11-27  276010010000011  276010010000001   21"
       ]
      }
     ],
     "prompt_number": 6
    },
    {
     "cell_type": "markdown",
     "metadata": {},
     "source": [
      "If we look at the data it is recognized that we have only 3 unique nodes within the network and the target node is always the same. \n",
      "\n",
      "What we want to do is to convert this edgelist into a directed **networkx** graph while leaving the information on the timing of the contacts out of consideration. This is achieved by aggregating over time. The *pandas* `pivot_table()` function is used. "
     ]
    },
    {
     "cell_type": "code",
     "collapsed": false,
     "input": [
      "adf = pd.pivot_table(df, index=['S','T'], values = 'VOL', aggfunc={\"VOL\":[len,np.sum]})\n",
      "adf.rename(columns={'len':'Freq', 'sum':'Vol'}, inplace=True)\n",
      "adf"
     ],
     "language": "python",
     "metadata": {},
     "outputs": [
      {
       "html": [
        "<div style=\"max-height:1000px;max-width:1500px;overflow:auto;\">\n",
        "<table border=\"1\" class=\"dataframe\">\n",
        "  <thead>\n",
        "    <tr style=\"text-align: right;\">\n",
        "      <th></th>\n",
        "      <th></th>\n",
        "      <th>Freq</th>\n",
        "      <th>Vol</th>\n",
        "    </tr>\n",
        "    <tr>\n",
        "      <th>S</th>\n",
        "      <th>T</th>\n",
        "      <th></th>\n",
        "      <th></th>\n",
        "    </tr>\n",
        "  </thead>\n",
        "  <tbody>\n",
        "    <tr>\n",
        "      <th>276010010000003</th>\n",
        "      <th>276010010000001</th>\n",
        "      <td>  1</td>\n",
        "      <td>   1</td>\n",
        "    </tr>\n",
        "    <tr>\n",
        "      <th>276010010000011</th>\n",
        "      <th>276010010000001</th>\n",
        "      <td> 19</td>\n",
        "      <td> 101</td>\n",
        "    </tr>\n",
        "  </tbody>\n",
        "</table>\n",
        "</div>"
       ],
       "metadata": {},
       "output_type": "pyout",
       "prompt_number": 7,
       "text": [
        "                                 Freq  Vol\n",
        "S               T                         \n",
        "276010010000003 276010010000001     1    1\n",
        "276010010000011 276010010000001    19  101"
       ]
      }
     ],
     "prompt_number": 7
    },
    {
     "cell_type": "markdown",
     "metadata": {},
     "source": [
      "The pandas pivot_table function is very handy because we can sum the volumes and count the contact frequency.\n",
      "\n",
      "Using the dataframe adf an edgelist with attributes can be generated which can be read by networkx. We will now create the edges and then the corresponding attributes. Both elements are the combined."
     ]
    },
    {
     "cell_type": "code",
     "collapsed": false,
     "input": [
      "edges = list(adf.index.values)\n",
      "edges"
     ],
     "language": "python",
     "metadata": {},
     "outputs": [
      {
       "metadata": {},
       "output_type": "pyout",
       "prompt_number": 8,
       "text": [
        "[(276010010000003, 276010010000001), (276010010000011, 276010010000001)]"
       ]
      }
     ],
     "prompt_number": 8
    },
    {
     "cell_type": "code",
     "collapsed": false,
     "input": [
      "attributes = adf.to_dict('records')\n",
      "attributes"
     ],
     "language": "python",
     "metadata": {},
     "outputs": [
      {
       "metadata": {},
       "output_type": "pyout",
       "prompt_number": 9,
       "text": [
        "[{'Freq': 1, 'Vol': 1}, {'Freq': 19, 'Vol': 101}]"
       ]
      }
     ],
     "prompt_number": 9
    },
    {
     "cell_type": "code",
     "collapsed": false,
     "input": [
      "ael = [edges[x] + (attributes[x],) for x in np.arange(len(edges))]\n",
      "ael"
     ],
     "language": "python",
     "metadata": {},
     "outputs": [
      {
       "metadata": {},
       "output_type": "pyout",
       "prompt_number": 10,
       "text": [
        "[(276010010000003, 276010010000001, {'Freq': 1, 'Vol': 1}),\n",
        " (276010010000011, 276010010000001, {'Freq': 19, 'Vol': 101})]"
       ]
      }
     ],
     "prompt_number": 10
    },
    {
     "cell_type": "markdown",
     "metadata": {},
     "source": [
      "We are now ready to create the graph using the attribut edgelist."
     ]
    },
    {
     "cell_type": "code",
     "collapsed": false,
     "input": [
      "G = nx.DiGraph()"
     ],
     "language": "python",
     "metadata": {},
     "outputs": [],
     "prompt_number": 11
    },
    {
     "cell_type": "code",
     "collapsed": false,
     "input": [
      "G.add_edges_from(ael)"
     ],
     "language": "python",
     "metadata": {},
     "outputs": [],
     "prompt_number": 12
    },
    {
     "cell_type": "code",
     "collapsed": false,
     "input": [
      "G.number_of_nodes(), G.number_of_edges()"
     ],
     "language": "python",
     "metadata": {},
     "outputs": [
      {
       "metadata": {},
       "output_type": "pyout",
       "prompt_number": 13,
       "text": [
        "(3, 2)"
       ]
      }
     ],
     "prompt_number": 13
    },
    {
     "cell_type": "code",
     "collapsed": false,
     "input": [
      "G.edges(data=True)"
     ],
     "language": "python",
     "metadata": {},
     "outputs": [
      {
       "metadata": {},
       "output_type": "pyout",
       "prompt_number": 14,
       "text": [
        "[(276010010000003, 276010010000001, {'Freq': 1, 'Vol': 1}),\n",
        " (276010010000011, 276010010000001, {'Freq': 19, 'Vol': 101})]"
       ]
      }
     ],
     "prompt_number": 14
    },
    {
     "cell_type": "code",
     "collapsed": false,
     "input": [
      "%pylab inline"
     ],
     "language": "python",
     "metadata": {},
     "outputs": [
      {
       "output_type": "stream",
       "stream": "stdout",
       "text": [
        "Populating the interactive namespace from numpy and matplotlib\n"
       ]
      }
     ],
     "prompt_number": 15
    },
    {
     "cell_type": "code",
     "collapsed": false,
     "input": [
      "nx.draw(G)"
     ],
     "language": "python",
     "metadata": {},
     "outputs": [
      {
       "metadata": {},
       "output_type": "display_data",
       "png": "[encoded data removed]",
       "text": [
        "<matplotlib.figure.Figure at 0x113d40ad0>"
       ]
      }
     ],
     "prompt_number": 16
    }
   ],
   "metadata": {}
  }
 ]
}