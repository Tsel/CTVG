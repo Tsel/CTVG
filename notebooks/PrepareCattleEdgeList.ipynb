{
 "metadata": {
  "name": "",
  "signature": "sha256:5a52909354c22f1addb49cf3bed62e1528eccf38a534edf6417caf3fd1c3c81c"
 },
 "nbformat": 3,
 "nbformat_minor": 0,
 "worksheets": [
  {
   "cells": [
    {
     "cell_type": "markdown",
     "metadata": {},
     "source": [
      "#Extract animal movement within a given time window\n",
      "Thomas Selhorst, January 2015"
     ]
    },
    {
     "cell_type": "markdown",
     "metadata": {},
     "source": [
      ">In order to extract the animal movements within a given time window $w$ we will use the **pandas** and the **datetime** packages"
     ]
    },
    {
     "cell_type": "markdown",
     "metadata": {},
     "source": [
      "This notebook is organized as followes:\n",
      "1. read a dataset into a **pandas** dataframe,\n",
      "2. extract all movement within a given timeframe."
     ]
    },
    {
     "cell_type": "code",
     "collapsed": false,
     "input": [
      "import pandas as pd"
     ],
     "language": "python",
     "metadata": {},
     "outputs": [],
     "prompt_number": 1
    },
    {
     "cell_type": "code",
     "collapsed": false,
     "input": [
      "# this dataset consists of 38,260,192 lines\n",
      "ddata = pd.read_csv(\"/Users/TOSS/Documents/Projects/CattleTVG/Edgelist/elri.csv\",\n",
      "                    sep=',', parse_dates=['Date'], index_col='Date')"
     ],
     "language": "python",
     "metadata": {},
     "outputs": [],
     "prompt_number": 2
    },
    {
     "cell_type": "code",
     "collapsed": false,
     "input": [
      "ddata.head(10)"
     ],
     "language": "python",
     "metadata": {},
     "outputs": [
      {
       "html": [
        "<div style=\"max-height:1000px;max-width:1500px;overflow:auto;\">\n",
        "<table border=\"1\" class=\"dataframe\">\n",
        "  <thead>\n",
        "    <tr style=\"text-align: right;\">\n",
        "      <th></th>\n",
        "      <th>S</th>\n",
        "      <th>T</th>\n",
        "      <th>VOL</th>\n",
        "    </tr>\n",
        "    <tr>\n",
        "      <th>Date</th>\n",
        "      <th></th>\n",
        "      <th></th>\n",
        "      <th></th>\n",
        "    </tr>\n",
        "  </thead>\n",
        "  <tbody>\n",
        "    <tr>\n",
        "      <th>2001-07-24</th>\n",
        "      <td> 276010010000003</td>\n",
        "      <td> 276010010000001</td>\n",
        "      <td>  1</td>\n",
        "    </tr>\n",
        "    <tr>\n",
        "      <th>2003-12-11</th>\n",
        "      <td> 276010010000011</td>\n",
        "      <td> 276010010000001</td>\n",
        "      <td> 12</td>\n",
        "    </tr>\n",
        "    <tr>\n",
        "      <th>2003-12-12</th>\n",
        "      <td> 276010010000011</td>\n",
        "      <td> 276010010000001</td>\n",
        "      <td>  2</td>\n",
        "    </tr>\n",
        "    <tr>\n",
        "      <th>2003-12-30</th>\n",
        "      <td> 276010010000011</td>\n",
        "      <td> 276010010000001</td>\n",
        "      <td>  2</td>\n",
        "    </tr>\n",
        "    <tr>\n",
        "      <th>2004-01-05</th>\n",
        "      <td> 276010010000011</td>\n",
        "      <td> 276010010000001</td>\n",
        "      <td>  1</td>\n",
        "    </tr>\n",
        "    <tr>\n",
        "      <th>2004-01-14</th>\n",
        "      <td> 276010010000011</td>\n",
        "      <td> 276010010000001</td>\n",
        "      <td>  2</td>\n",
        "    </tr>\n",
        "    <tr>\n",
        "      <th>2004-02-06</th>\n",
        "      <td> 276010010000011</td>\n",
        "      <td> 276010010000001</td>\n",
        "      <td>  2</td>\n",
        "    </tr>\n",
        "    <tr>\n",
        "      <th>2004-02-26</th>\n",
        "      <td> 276010010000011</td>\n",
        "      <td> 276010010000001</td>\n",
        "      <td>  1</td>\n",
        "    </tr>\n",
        "    <tr>\n",
        "      <th>2004-03-02</th>\n",
        "      <td> 276010010000011</td>\n",
        "      <td> 276010010000001</td>\n",
        "      <td>  6</td>\n",
        "    </tr>\n",
        "    <tr>\n",
        "      <th>2004-03-15</th>\n",
        "      <td> 276010010000011</td>\n",
        "      <td> 276010010000001</td>\n",
        "      <td>  1</td>\n",
        "    </tr>\n",
        "  </tbody>\n",
        "</table>\n",
        "</div>"
       ],
       "metadata": {},
       "output_type": "pyout",
       "prompt_number": 3,
       "text": [
        "                          S                T  VOL\n",
        "Date                                             \n",
        "2001-07-24  276010010000003  276010010000001    1\n",
        "2003-12-11  276010010000011  276010010000001   12\n",
        "2003-12-12  276010010000011  276010010000001    2\n",
        "2003-12-30  276010010000011  276010010000001    2\n",
        "2004-01-05  276010010000011  276010010000001    1\n",
        "2004-01-14  276010010000011  276010010000001    2\n",
        "2004-02-06  276010010000011  276010010000001    2\n",
        "2004-02-26  276010010000011  276010010000001    1\n",
        "2004-03-02  276010010000011  276010010000001    6\n",
        "2004-03-15  276010010000011  276010010000001    1"
       ]
      }
     ],
     "prompt_number": 3
    },
    {
     "cell_type": "code",
     "collapsed": false,
     "input": [
      "ddata.shape"
     ],
     "language": "python",
     "metadata": {},
     "outputs": [
      {
       "metadata": {},
       "output_type": "pyout",
       "prompt_number": 4,
       "text": [
        "(38260192, 3)"
       ]
      }
     ],
     "prompt_number": 4
    },
    {
     "cell_type": "code",
     "collapsed": false,
     "input": [
      "df = ddata.sort()"
     ],
     "language": "python",
     "metadata": {},
     "outputs": [],
     "prompt_number": 5
    },
    {
     "cell_type": "code",
     "collapsed": false,
     "input": [
      "import datetime as dt"
     ],
     "language": "python",
     "metadata": {},
     "outputs": [],
     "prompt_number": 6
    },
    {
     "cell_type": "code",
     "collapsed": false,
     "input": [
      "start = dt.datetime(2001,1,2)"
     ],
     "language": "python",
     "metadata": {},
     "outputs": [],
     "prompt_number": 7
    },
    {
     "cell_type": "markdown",
     "metadata": {},
     "source": [
      "The parameter to `timedelta()` has to be **6** because it represents a range starting at 0."
     ]
    },
    {
     "cell_type": "code",
     "collapsed": false,
     "input": [
      "end = start + dt.timedelta(6)"
     ],
     "language": "python",
     "metadata": {},
     "outputs": [],
     "prompt_number": 8
    },
    {
     "cell_type": "code",
     "collapsed": false,
     "input": [
      "start, end"
     ],
     "language": "python",
     "metadata": {},
     "outputs": [
      {
       "metadata": {},
       "output_type": "pyout",
       "prompt_number": 9,
       "text": [
        "(datetime.datetime(2001, 1, 2, 0, 0), datetime.datetime(2001, 1, 8, 0, 0))"
       ]
      }
     ],
     "prompt_number": 9
    },
    {
     "cell_type": "code",
     "collapsed": false,
     "input": [
      "selected = df[start:end]"
     ],
     "language": "python",
     "metadata": {},
     "outputs": [],
     "prompt_number": 10
    },
    {
     "cell_type": "code",
     "collapsed": false,
     "input": [
      "selected.head()"
     ],
     "language": "python",
     "metadata": {},
     "outputs": [
      {
       "html": [
        "<div style=\"max-height:1000px;max-width:1500px;overflow:auto;\">\n",
        "<table border=\"1\" class=\"dataframe\">\n",
        "  <thead>\n",
        "    <tr style=\"text-align: right;\">\n",
        "      <th></th>\n",
        "      <th>S</th>\n",
        "      <th>T</th>\n",
        "      <th>VOL</th>\n",
        "    </tr>\n",
        "    <tr>\n",
        "      <th>Date</th>\n",
        "      <th></th>\n",
        "      <th></th>\n",
        "      <th></th>\n",
        "    </tr>\n",
        "  </thead>\n",
        "  <tbody>\n",
        "    <tr>\n",
        "      <th>2001-01-02</th>\n",
        "      <td> 276091861250429</td>\n",
        "      <td> 276091861250054</td>\n",
        "      <td> 1</td>\n",
        "    </tr>\n",
        "    <tr>\n",
        "      <th>2001-01-02</th>\n",
        "      <td> 276059580402808</td>\n",
        "      <td> 276059660280035</td>\n",
        "      <td> 1</td>\n",
        "    </tr>\n",
        "    <tr>\n",
        "      <th>2001-01-02</th>\n",
        "      <td> 276094751230115</td>\n",
        "      <td> 276094640000230</td>\n",
        "      <td> 1</td>\n",
        "    </tr>\n",
        "    <tr>\n",
        "      <th>2001-01-02</th>\n",
        "      <td> 276097781610030</td>\n",
        "      <td> 276097801250050</td>\n",
        "      <td> 2</td>\n",
        "    </tr>\n",
        "    <tr>\n",
        "      <th>2001-01-02</th>\n",
        "      <td> 276072320860018</td>\n",
        "      <td> 276072321010403</td>\n",
        "      <td> 1</td>\n",
        "    </tr>\n",
        "  </tbody>\n",
        "</table>\n",
        "</div>"
       ],
       "metadata": {},
       "output_type": "pyout",
       "prompt_number": 11,
       "text": [
        "                          S                T  VOL\n",
        "Date                                             \n",
        "2001-01-02  276091861250429  276091861250054    1\n",
        "2001-01-02  276059580402808  276059660280035    1\n",
        "2001-01-02  276094751230115  276094640000230    1\n",
        "2001-01-02  276097781610030  276097801250050    2\n",
        "2001-01-02  276072320860018  276072321010403    1"
       ]
      }
     ],
     "prompt_number": 11
    },
    {
     "cell_type": "code",
     "collapsed": false,
     "input": [
      "selected.tail()"
     ],
     "language": "python",
     "metadata": {},
     "outputs": [
      {
       "html": [
        "<div style=\"max-height:1000px;max-width:1500px;overflow:auto;\">\n",
        "<table border=\"1\" class=\"dataframe\">\n",
        "  <thead>\n",
        "    <tr style=\"text-align: right;\">\n",
        "      <th></th>\n",
        "      <th>S</th>\n",
        "      <th>T</th>\n",
        "      <th>VOL</th>\n",
        "    </tr>\n",
        "    <tr>\n",
        "      <th>Date</th>\n",
        "      <th></th>\n",
        "      <th></th>\n",
        "      <th></th>\n",
        "    </tr>\n",
        "  </thead>\n",
        "  <tbody>\n",
        "    <tr>\n",
        "      <th>2001-01-08</th>\n",
        "      <td> 276094731410002</td>\n",
        "      <td> 276094610000387</td>\n",
        "      <td> 1</td>\n",
        "    </tr>\n",
        "    <tr>\n",
        "      <th>2001-01-08</th>\n",
        "      <td> 276091891620172</td>\n",
        "      <td> 276091831480192</td>\n",
        "      <td> 1</td>\n",
        "    </tr>\n",
        "    <tr>\n",
        "      <th>2001-01-08</th>\n",
        "      <td> 276160610450090</td>\n",
        "      <td> 276031550108533</td>\n",
        "      <td> 5</td>\n",
        "    </tr>\n",
        "    <tr>\n",
        "      <th>2001-01-08</th>\n",
        "      <td> 276143750500065</td>\n",
        "      <td> 276143750700482</td>\n",
        "      <td> 1</td>\n",
        "    </tr>\n",
        "    <tr>\n",
        "      <th>2001-01-08</th>\n",
        "      <td> 276073352030023</td>\n",
        "      <td> 276072351490813</td>\n",
        "      <td> 2</td>\n",
        "    </tr>\n",
        "  </tbody>\n",
        "</table>\n",
        "</div>"
       ],
       "metadata": {},
       "output_type": "pyout",
       "prompt_number": 12,
       "text": [
        "                          S                T  VOL\n",
        "Date                                             \n",
        "2001-01-08  276094731410002  276094610000387    1\n",
        "2001-01-08  276091891620172  276091831480192    1\n",
        "2001-01-08  276160610450090  276031550108533    5\n",
        "2001-01-08  276143750500065  276143750700482    1\n",
        "2001-01-08  276073352030023  276072351490813    2"
       ]
      }
     ],
     "prompt_number": 12
    },
    {
     "cell_type": "code",
     "collapsed": false,
     "input": [
      "selected.shape"
     ],
     "language": "python",
     "metadata": {},
     "outputs": [
      {
       "metadata": {},
       "output_type": "pyout",
       "prompt_number": 13,
       "text": [
        "(72037, 3)"
       ]
      }
     ],
     "prompt_number": 13
    },
    {
     "cell_type": "code",
     "collapsed": false,
     "input": [],
     "language": "python",
     "metadata": {},
     "outputs": []
    }
   ],
   "metadata": {}
  }
 ]
}